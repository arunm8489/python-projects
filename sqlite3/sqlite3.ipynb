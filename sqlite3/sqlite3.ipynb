{
 "cells": [
  {
   "cell_type": "code",
   "execution_count": 1,
   "metadata": {},
   "outputs": [],
   "source": [
    "import sqlite3"
   ]
  },
  {
   "cell_type": "code",
   "execution_count": 2,
   "metadata": {},
   "outputs": [],
   "source": [
    "#creating a table with 3 columns\n",
    "conn = sqlite3.connect('employee.db')\n",
    "c = conn.cursor()\n",
    "c.execute(\"\"\"CREATE TABLE employeees (\n",
    "            first_name text,\n",
    "            last_name text,\n",
    "            pay integer\n",
    "            )\"\"\")\n",
    "conn.commit()  #commiting the changes\n",
    "conn.close() #closing the connection"
   ]
  },
  {
   "cell_type": "markdown",
   "metadata": {},
   "source": [
    "### Using findone and findall"
   ]
  },
  {
   "cell_type": "code",
   "execution_count": 3,
   "metadata": {},
   "outputs": [],
   "source": [
    "conn= sqlite3.connect('employee.db')\n",
    "c = conn.cursor()\n",
    "c.execute(\"INSERT INTO employeees VALUES ('Arun', 'Mohan', 120000)\")\n",
    "conn.commit() #commiting the changes\n",
    "c.execute(\"INSERT INTO employeees VALUES ('Ajith', 'Mohan', 10000)\")\n",
    "conn.commit()\n",
    "c.execute(\"INSERT INTO employeees VALUES ('Kevin', 'P', 10045)\")\n",
    "conn.commit()\n",
    "c.execute(\"INSERT INTO employeees VALUES ('Arun', 'M', 105)\")\n",
    "conn.commit()\n",
    "conn.close()\n"
   ]
  },
  {
   "cell_type": "code",
   "execution_count": 4,
   "metadata": {},
   "outputs": [
    {
     "name": "stdout",
     "output_type": "stream",
     "text": [
      "('Arun', 'Mohan', 120000)\n"
     ]
    }
   ],
   "source": [
    "conn= sqlite3.connect('employee.db')\n",
    "c = conn.cursor()\n",
    "c.execute(\"SELECT * FROM employeees where first_name == 'Arun'\")\n",
    "print(c.fetchone())\n",
    "conn.commit()\n",
    "conn.close()"
   ]
  },
  {
   "cell_type": "code",
   "execution_count": 5,
   "metadata": {},
   "outputs": [
    {
     "name": "stdout",
     "output_type": "stream",
     "text": [
      "[('Arun', 'Mohan', 120000), ('Arun', 'M', 105)]\n"
     ]
    }
   ],
   "source": [
    "conn= sqlite3.connect('employee.db')\n",
    "c = conn.cursor()\n",
    "c.execute(\"SELECT * FROM employeees where first_name == 'Arun'\")\n",
    "print(c.fetchall())  #print all outputs in list\n",
    "conn.commit()\n",
    "conn.close()"
   ]
  },
  {
   "cell_type": "markdown",
   "metadata": {},
   "source": [
    "### Using Placeholders"
   ]
  },
  {
   "cell_type": "code",
   "execution_count": 13,
   "metadata": {},
   "outputs": [],
   "source": [
    "from employee import Employee #loading the format as a function\n",
    "emp1 = Employee('Raj','Kumar','999')\n",
    "emp2 = Employee('Lalu','K','999000')\n",
    "c = conn.cursor()\n",
    "c.execute(\"INSERT INTO employeees VALUES (:one, :two, :three)\",({\"one\":emp1.first,\"two\":emp1.last,\"three\":emp1.pay}))\n",
    "conn.commit()\n",
    "conn.close()\n"
   ]
  },
  {
   "cell_type": "code",
   "execution_count": 14,
   "metadata": {},
   "outputs": [
    {
     "name": "stdout",
     "output_type": "stream",
     "text": [
      "('Raj', 'Kumar', 999)\n"
     ]
    }
   ],
   "source": [
    "conn= sqlite3.connect('employee.db')\n",
    "c = conn.cursor()\n",
    "c.execute(\"SELECT * FROM employeees where first_name == 'Raj'\")\n",
    "print(c.fetchone())  #print all outputs in list\n",
    "conn.commit()\n",
    "conn.close()"
   ]
  },
  {
   "cell_type": "markdown",
   "metadata": {},
   "source": [
    "### Using as dataframe"
   ]
  },
  {
   "cell_type": "code",
   "execution_count": 17,
   "metadata": {},
   "outputs": [],
   "source": [
    "import pandas as pd\n",
    "conn= sqlite3.connect('employee.db')\n",
    "df = pd.read_sql_query(\"SELECT * FROM employeees\",conn)\n",
    "conn.close()"
   ]
  },
  {
   "cell_type": "code",
   "execution_count": 18,
   "metadata": {},
   "outputs": [
    {
     "data": {
      "text/html": [
       "<div>\n",
       "<style scoped>\n",
       "    .dataframe tbody tr th:only-of-type {\n",
       "        vertical-align: middle;\n",
       "    }\n",
       "\n",
       "    .dataframe tbody tr th {\n",
       "        vertical-align: top;\n",
       "    }\n",
       "\n",
       "    .dataframe thead th {\n",
       "        text-align: right;\n",
       "    }\n",
       "</style>\n",
       "<table border=\"1\" class=\"dataframe\">\n",
       "  <thead>\n",
       "    <tr style=\"text-align: right;\">\n",
       "      <th></th>\n",
       "      <th>first_name</th>\n",
       "      <th>last_name</th>\n",
       "      <th>pay</th>\n",
       "    </tr>\n",
       "  </thead>\n",
       "  <tbody>\n",
       "    <tr>\n",
       "      <th>0</th>\n",
       "      <td>Arun</td>\n",
       "      <td>Mohan</td>\n",
       "      <td>120000</td>\n",
       "    </tr>\n",
       "    <tr>\n",
       "      <th>1</th>\n",
       "      <td>Ajith</td>\n",
       "      <td>Mohan</td>\n",
       "      <td>10000</td>\n",
       "    </tr>\n",
       "    <tr>\n",
       "      <th>2</th>\n",
       "      <td>Kevin</td>\n",
       "      <td>P</td>\n",
       "      <td>10045</td>\n",
       "    </tr>\n",
       "    <tr>\n",
       "      <th>3</th>\n",
       "      <td>Arun</td>\n",
       "      <td>M</td>\n",
       "      <td>105</td>\n",
       "    </tr>\n",
       "    <tr>\n",
       "      <th>4</th>\n",
       "      <td>Raj</td>\n",
       "      <td>Kumar</td>\n",
       "      <td>999</td>\n",
       "    </tr>\n",
       "  </tbody>\n",
       "</table>\n",
       "</div>"
      ],
      "text/plain": [
       "  first_name last_name     pay\n",
       "0       Arun     Mohan  120000\n",
       "1      Ajith     Mohan   10000\n",
       "2      Kevin         P   10045\n",
       "3       Arun         M     105\n",
       "4        Raj     Kumar     999"
      ]
     },
     "execution_count": 18,
     "metadata": {},
     "output_type": "execute_result"
    }
   ],
   "source": [
    "df.head()"
   ]
  },
  {
   "cell_type": "code",
   "execution_count": null,
   "metadata": {},
   "outputs": [],
   "source": []
  },
  {
   "cell_type": "code",
   "execution_count": null,
   "metadata": {},
   "outputs": [],
   "source": []
  }
 ],
 "metadata": {
  "kernelspec": {
   "display_name": "Python 3",
   "language": "python",
   "name": "python3"
  },
  "language_info": {
   "codemirror_mode": {
    "name": "ipython",
    "version": 3
   },
   "file_extension": ".py",
   "mimetype": "text/x-python",
   "name": "python",
   "nbconvert_exporter": "python",
   "pygments_lexer": "ipython3",
   "version": "3.7.1"
  }
 },
 "nbformat": 4,
 "nbformat_minor": 2
}
