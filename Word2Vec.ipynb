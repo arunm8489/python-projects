{
 "cells": [
  {
   "cell_type": "markdown",
   "metadata": {},
   "source": [
    "# Word2Vec"
   ]
  },
  {
   "cell_type": "code",
   "execution_count": 3,
   "metadata": {},
   "outputs": [
    {
     "name": "stderr",
     "output_type": "stream",
     "text": [
      "C:\\Users\\arun\\Anaconda3\\lib\\site-packages\\gensim\\utils.py:1197: UserWarning: detected Windows; aliasing chunkize to chunkize_serial\n",
      "  warnings.warn(\"detected Windows; aliasing chunkize to chunkize_serial\")\n"
     ]
    }
   ],
   "source": [
    "import numpy as np\n",
    "from sklearn.feature_extraction.text import TfidfVectorizer\n",
    "from gensim.models import Word2Vec"
   ]
  },
  {
   "cell_type": "code",
   "execution_count": 24,
   "metadata": {},
   "outputs": [],
   "source": [
    "preprocessed_reviews = ['baking soda works great cooking health reasons take acid indigestion heart burn tsp half glass water gone use make body alkaline great changing ph level body',\n",
    " 'got girlfriend birthday fruit actually tasted fresh yummy love dark chocolate loved dark chocolate almonds next time give organic version product someone close share',\n",
    " 'would call summer wine light strong pear notes almost clear color nice finish good wine not really like wine',\n",
    " 'really worried ordered phantom power would make overheat apparently worried nothing use paired blue yeti pro seriously beefy microphone running shielded cable eighty feet away absolutely great one downside seen piece kit occasionally not register usb device granted seen happen always want double check connections',\n",
    " 'rarely find potato chips live decided find online satisfy cravings cannot happier ordering amazon chips arrived fast box protected crushing excellent ordering',\n",
    " 'best gluten free mix tried recipes box vouch pancakes waffles biscuits edible not enjoyable pancakes waffles also freeze well also recommend betty crocker glutenfree recipe collection magazine extra recipes try without mix magazine thus far made chicken dumplings dumplings disintegrate bit easily still good fruit swirl coffee cake used full pie filling per used apple lemon pie fillings thought cake tasted rather like cobbler dry danish pastry mix quick easy tastes good versatile hey although packaging mix little boxes bit pain serve keep mix fresh',\n",
    " 'not eat many chips love great buy arrived quick packed great expiration date ways away awhile enjoy great natural potato flavor love brown russet hardy flavor fit description tee',\n",
    " 'even kids like always asking hot cocoa not sweet chocolaty not super high sugar calories great little treat enjoy',\n",
    " 'bar harbor clam chowder absolutely not usually fan soup really picky clam chowder said get stuff bulk several reasons first great flavor clams potatoes second like fact ingredients natural third one adjust level creaminess viscosity one adds soup like use mixture milk cream fourth plus soup contains neither bacon nor excessive amounts spice pepper two things ruin clam chowder know bacon popular lot folks really want taste clams bowl new england clam chowder like respect think like soup p child fan friendly clam chowder changed recipe bar harbor even better',\n",
    " 'guess thought usual commercial price not seem bad arrived saw somewhat smaller less half gallon not see size much problem rethink would use recipe free shipping helped feeling better purchase saw size store would not pay oz would see fresh clams would cost first would like made clams bigger chunks could buy fresh add clam chowder made bigger chunks snow makes good product despite price',\n",
    " 'keep pamela baking mix gallon container spin bucket seal lid pantry want make pancakes waffles start day right take cup two mix add teaspoon vanilla extract egg olive oil ready go enjoy purchasing lb bag easy store keeps fresh months yet accessible consistent performance special treat like add hemp seed top waffles cooking fresh blueberries strawberries topping agave syrup',\n",
    " 'used use coffee visited costa rica gave aunt thinks best coffee gave christmas excellent',\n",
    " 'first introduced red rice beans chips hometown bethlehem pa moved north carolina unable find chips local area trips back home would buy bunch bags bring back nc discovered could order line life great chips time favorite everyone serve loves gotta try hooked nancy walsh',\n",
    " 'wonderful product bread mixes tried amazon not disappointing back make great christmas presents',\n",
    " 'first found year old go gluten free little worried would handle gf bisquick made lot easier able make favorite foods chicken fingers corn dogs pizza chinese sweet sour chicken mix pancakes also big hit house quick easy recipes box chinese take chicken finger recipe cute pieces chicken bite size pieces bake according recipe cook rice use gf sweet sour sauce quick simple easy meal tastes wonderful',\n",
    " 'sun chips ok substitute usual potato corn whatever chip cooked oil salted not nearly un palatable thought would added heart healthy diet regime good except amulti grain style texture sheet plywood',\n",
    " 'fun great price one party favors son birthday party huge hit buy baseball team group outings box like good ol days although remember prizes better back maybe expectations lower since',\n",
    " 'dog loves food serious gastrointestinal problems not clearing started newman since regular happy healthy',\n",
    " 'not eaten popcorn tasted part gift daughter grad school likes fluffy quality popped corn not many hulls also big bag makes think make last christmas remains seen without buy good snack poor grad student',\n",
    " 'spice mix recreate taste favorite restaurant stews potent not use much smells heavenly perfect meat bean stews',\n",
    " 'instead simple solution lamb rice sent simple lamb oatmeal dog likes next time make sure sent right food not know open put food container',]"
   ]
  },
  {
   "cell_type": "code",
   "execution_count": 38,
   "metadata": {},
   "outputs": [
    {
     "name": "stdout",
     "output_type": "stream",
     "text": [
      "['great', 'use', 'make', 'fresh', 'would', 'good', 'not', 'like', 'chips', 'mix', 'recipe', 'chicken', 'buy', 'clam', 'chowder']\n"
     ]
    }
   ],
   "source": [
    "listofwords = []\n",
    "for sentance in preprocessed_reviews:\n",
    "    listofwords.append(sentance.split())\n",
    "    \n",
    "w2vmodel = Word2Vec(listofwords,min_count=5,size=50)\n",
    "#list of words in word2vec model\n",
    "w2vwords = list(w2vmodel.wv.vocab)\n",
    "print(w2vwords)"
   ]
  },
  {
   "cell_type": "code",
   "execution_count": 42,
   "metadata": {},
   "outputs": [
    {
     "data": {
      "text/plain": [
       "['baking',\n",
       " 'soda',\n",
       " 'works',\n",
       " 'great',\n",
       " 'cooking',\n",
       " 'health',\n",
       " 'reasons',\n",
       " 'take',\n",
       " 'acid',\n",
       " 'indigestion',\n",
       " 'heart',\n",
       " 'burn',\n",
       " 'tsp',\n",
       " 'half',\n",
       " 'glass',\n",
       " 'water',\n",
       " 'gone',\n",
       " 'use',\n",
       " 'make',\n",
       " 'body',\n",
       " 'alkaline',\n",
       " 'great',\n",
       " 'changing',\n",
       " 'ph',\n",
       " 'level',\n",
       " 'body']"
      ]
     },
     "execution_count": 42,
     "metadata": {},
     "output_type": "execute_result"
    }
   ],
   "source": [
    "#words of first review\n",
    "listofwords[0]"
   ]
  },
  {
   "cell_type": "code",
   "execution_count": 39,
   "metadata": {},
   "outputs": [
    {
     "data": {
      "text/plain": [
       "array([ 0.00288393,  0.0039188 ,  0.00468311, -0.00908116,  0.00479992,\n",
       "        0.00358471,  0.00112401, -0.00424932,  0.00110552,  0.00969205,\n",
       "        0.00788773, -0.00882963,  0.00202138,  0.00723123,  0.00528644,\n",
       "        0.00371784,  0.00416327,  0.00061227, -0.00522876, -0.00295116,\n",
       "        0.00635336,  0.00146099, -0.00983775, -0.00049973,  0.00199312,\n",
       "       -0.00663965, -0.00734409,  0.00735446, -0.00873247, -0.00695296,\n",
       "        0.0068963 , -0.0043568 ,  0.00906399, -0.00712066,  0.00996415,\n",
       "        0.00796806,  0.0047817 , -0.00553946,  0.00236817,  0.00988753,\n",
       "       -0.00128688,  0.00503099, -0.00114999, -0.00213074,  0.0006531 ,\n",
       "        0.00129721, -0.00450396, -0.00217756,  0.00161538,  0.0043157 ],\n",
       "      dtype=float32)"
      ]
     },
     "execution_count": 39,
     "metadata": {},
     "output_type": "execute_result"
    }
   ],
   "source": [
    "#example: vector of each word created by w2v model\n",
    "w2vmodel.wv['use']"
   ]
  },
  {
   "cell_type": "markdown",
   "metadata": {},
   "source": [
    "# Avg- word2vec"
   ]
  },
  {
   "cell_type": "code",
   "execution_count": 34,
   "metadata": {},
   "outputs": [],
   "source": [
    "#average word2vec\n",
    "list_of_avgw2v = []  #list of vector for each review\n",
    "for sentance in listofwords:\n",
    "    sent_vector = np.zeros(50)\n",
    "    count = 0\n",
    "    for word in sentance:\n",
    "        if word in w2vwords:\n",
    "            sent_vector += w2vmodel.wv[word] #adding w2vec vector to zero vector\n",
    "            count += 1\n",
    "    if count != 0:\n",
    "        sent_vector /= count #dividing sum of w2vectors with count\n",
    "    list_of_avgw2v.append(sent_vector)"
   ]
  },
  {
   "cell_type": "code",
   "execution_count": 37,
   "metadata": {},
   "outputs": [
    {
     "data": {
      "text/plain": [
       "[array([-1.12782489e-03, -1.33732404e-03,  2.72321724e-03, -1.14197284e-03,\n",
       "        -7.28782470e-05,  1.66157202e-03,  6.10402878e-03, -8.71056039e-03,\n",
       "         2.46621924e-03, -4.31072991e-03, -8.02897755e-03,  1.53711601e-03,\n",
       "         9.30540171e-03,  8.84269737e-03, -4.36173612e-03,  6.82319375e-03,\n",
       "        -4.66642668e-03, -3.82614345e-03,  6.07121876e-03, -5.15935151e-03,\n",
       "         5.59466716e-04,  6.96281483e-03,  9.91382170e-03,  8.96636583e-03,\n",
       "        -4.90086479e-03, -7.04293489e-04, -5.84290363e-03, -1.75583686e-04,\n",
       "         8.77030008e-03,  1.95129297e-03,  7.89933663e-04, -3.46579892e-03,\n",
       "        -5.23912604e-04,  3.96382529e-03,  8.12609098e-04,  6.39481656e-03,\n",
       "         4.40276880e-03, -7.31428619e-04,  6.01215241e-03, -6.26263255e-03,\n",
       "         2.09219079e-03,  3.07001267e-03, -8.48279800e-03,  4.91593918e-03,\n",
       "        -8.51797592e-03,  4.04579239e-03,  7.05413613e-03, -6.65177964e-03,\n",
       "        -5.20102307e-03, -6.88160956e-03]),\n",
       " array([-3.01858579e-03, -3.99650606e-04, -4.01498750e-04, -4.66179170e-03,\n",
       "         6.01737909e-04, -6.05310261e-03, -4.90412927e-03, -3.61915066e-03,\n",
       "         3.27304102e-03,  6.76428317e-06, -3.46583955e-03, -2.72516096e-03,\n",
       "        -1.16272242e-03,  6.57027616e-04,  1.12672930e-03,  4.70281695e-04,\n",
       "        -2.17555403e-03, -1.77214462e-03,  4.04907393e-03,  7.96985631e-04,\n",
       "         3.23725038e-03, -5.66841202e-03,  6.85318737e-04,  1.60372889e-03,\n",
       "        -1.86525303e-03, -2.51031161e-03,  4.98485548e-04,  2.43942637e-03,\n",
       "        -1.76653240e-03, -1.43683038e-03,  2.12967134e-03,  1.26388849e-03,\n",
       "         3.70987796e-03, -7.41776399e-04,  2.08024569e-03, -5.22280534e-04,\n",
       "        -4.74877394e-04,  4.26355348e-03,  1.30868675e-03, -4.57873500e-03,\n",
       "         9.07913614e-04,  1.44406932e-03,  1.43229065e-03,  4.41166630e-05,\n",
       "         4.02623462e-03,  2.36375048e-03,  2.50553212e-03,  2.83140008e-03,\n",
       "         1.86487559e-03, -3.97116772e-03]),\n",
       " array([-3.11474688e-03,  1.13772082e-03,  1.27100201e-03, -2.78225236e-03,\n",
       "         3.42231423e-03, -4.84207668e-03, -8.43402545e-04, -5.17221922e-03,\n",
       "         3.44326306e-04,  2.06133926e-03,  1.68901868e-03, -1.47607386e-03,\n",
       "        -1.90109247e-04,  1.99187313e-03,  5.27703976e-03,  6.24445407e-04,\n",
       "         1.85686080e-03, -2.34469672e-03,  1.60858106e-03, -2.05075089e-04,\n",
       "        -2.90671413e-04, -2.33888375e-03, -1.17191762e-03,  2.28105116e-03,\n",
       "         1.09635792e-03, -2.37689400e-04, -1.98011915e-03,  4.61799614e-03,\n",
       "        -1.57145076e-03, -5.04995724e-03,  3.64470957e-03, -4.77668974e-03,\n",
       "         4.74614170e-03, -4.37840056e-03,  4.87760622e-03, -2.56102986e-04,\n",
       "        -9.50387912e-05,  2.21751761e-03,  1.61893476e-03,  2.58849422e-04,\n",
       "         2.38241205e-03,  5.93473073e-03,  2.13262674e-03,  2.74312743e-03,\n",
       "         1.85062848e-03,  6.08385564e-04,  7.44404085e-04,  4.40381665e-03,\n",
       "        -5.85131714e-04,  2.79303305e-03]),\n",
       " array([ 0.00822155,  0.00848046, -0.00940623,  0.00891026, -0.00048991,\n",
       "         0.0030516 ,  0.00166889,  0.0075322 , -0.00583051, -0.00424984,\n",
       "         0.00597123,  0.00560053,  0.00087445, -0.00056957, -0.00160289,\n",
       "         0.00294641,  0.00578753,  0.00855025,  0.00281505, -0.00835379,\n",
       "        -0.00989037, -0.00244814, -0.0088038 ,  0.00378975,  0.00644632,\n",
       "         0.00287936,  0.00579204, -0.00309059, -0.00829926, -0.00852158,\n",
       "        -0.00941809,  0.00813004, -0.00852625,  0.00904714, -0.0082824 ,\n",
       "         0.00287761, -0.00757117,  0.0038264 , -0.00072983,  0.00885169,\n",
       "        -0.00366538,  0.00150292, -0.0058301 , -0.00322808,  0.00731548,\n",
       "        -0.00746446,  0.00190919,  0.00761813,  0.00740698, -0.00829427]),\n",
       " array([-2.70481854e-03, -1.97748904e-03, -2.95370045e-03, -2.04606197e-03,\n",
       "         1.20398726e-03, -3.01111950e-03, -4.33720049e-03, -2.98130971e-03,\n",
       "         1.94295954e-03,  3.07253321e-03, -5.93196228e-03, -3.31947923e-03,\n",
       "        -2.18915873e-03, -1.08716083e-03,  3.78001313e-03,  4.61624454e-03,\n",
       "        -5.44800459e-04,  2.53105978e-03, -1.59658009e-03, -1.24603933e-03,\n",
       "         7.45685747e-04,  2.03432641e-03,  4.55287319e-03,  3.12034380e-04,\n",
       "        -2.30416031e-03,  5.08207158e-04,  5.45908561e-04,  4.39579867e-04,\n",
       "         4.91762340e-04, -1.45812532e-03, -1.05129629e-03,  3.08782945e-03,\n",
       "         4.29119039e-03, -5.31195411e-04, -4.12669385e-03,  2.56895920e-03,\n",
       "        -5.06630701e-04,  3.93174847e-03, -2.90083568e-03,  2.03507358e-03,\n",
       "         4.89286552e-03,  3.11178424e-03,  4.22754543e-04,  5.48069448e-04,\n",
       "         1.37737572e-03,  5.45967838e-03,  1.23064738e-03, -1.02890772e-05,\n",
       "         9.31147952e-05,  1.58197190e-03]),\n",
       " array([-1.42021823e-03,  4.10807684e-03, -2.66229734e-04,  5.28519950e-03,\n",
       "        -1.03729783e-03, -4.94207748e-03, -1.92582335e-03, -9.47564064e-04,\n",
       "         1.25316274e-03, -3.72174631e-03,  2.27979586e-03,  2.88725004e-03,\n",
       "         2.29621641e-03,  8.04078746e-04,  5.15085274e-03,  4.06394208e-04,\n",
       "         2.66666826e-03, -4.08385890e-04,  5.05117894e-03,  1.76491740e-03,\n",
       "         7.89746441e-04,  1.36464442e-03, -2.94749835e-03,  3.10073599e-03,\n",
       "         3.93962181e-03,  4.99247872e-03, -8.14734214e-04, -5.41848480e-04,\n",
       "         6.85599943e-04, -5.46459761e-03, -2.15350565e-03,  1.25605679e-03,\n",
       "         6.78505360e-04, -1.46064673e-03,  2.67268391e-04, -2.45811151e-03,\n",
       "        -1.96942479e-03,  5.48914357e-03, -3.82922897e-03,  2.92717665e-03,\n",
       "         3.31657846e-03,  7.44106818e-03,  4.13223271e-03,  3.70940005e-03,\n",
       "         1.10606882e-03, -4.34904350e-03,  1.97178855e-03,  7.52949249e-03,\n",
       "         8.76873188e-05,  3.49855716e-03]),\n",
       " array([-2.38942739e-03, -1.13249815e-03,  2.59221261e-03, -4.09902859e-04,\n",
       "        -4.79978553e-05, -6.00009138e-03, -2.60295978e-03, -2.94014881e-03,\n",
       "         3.10023857e-03, -2.26589188e-03, -2.29075050e-03,  2.83292145e-04,\n",
       "        -2.37667852e-03,  2.25966604e-03,  4.32413234e-03, -4.82109038e-03,\n",
       "         7.74000422e-04, -1.44083941e-03,  3.95227838e-03,  3.83614190e-03,\n",
       "         4.24314866e-03, -2.67861964e-03, -3.49170761e-04,  4.42546178e-03,\n",
       "         8.81086395e-04, -1.36436115e-03, -1.31030709e-04,  2.03990610e-03,\n",
       "         1.49879546e-03,  6.44115498e-05,  7.04471488e-04,  8.84411857e-05,\n",
       "         4.56329365e-03, -6.08319190e-03, -4.14519338e-04,  9.52889415e-04,\n",
       "        -9.25127708e-04,  7.54200539e-03,  8.30410310e-04, -2.30500358e-03,\n",
       "         3.79189971e-03,  4.99120308e-03,  2.59352988e-03,  2.06074319e-03,\n",
       "         2.70324797e-03, -1.00803710e-03,  9.03089996e-04,  3.95977905e-03,\n",
       "        -2.23251065e-03,  2.87113898e-03]),\n",
       " array([-0.00296058, -0.00304735,  0.00219925,  0.00181094,  0.00338865,\n",
       "        -0.00146781, -0.00387383,  0.0016765 , -0.00173909,  0.00091751,\n",
       "         0.00046385, -0.00360179,  0.00101781,  0.00638266,  0.00270518,\n",
       "        -0.00285008,  0.0005416 , -0.00212784, -0.00434512,  0.00318126,\n",
       "        -0.00043195, -0.00199599, -0.0047594 ,  0.00299721, -0.00203532,\n",
       "        -0.00268839,  0.00424536, -0.00151209, -0.00136353, -0.00610306,\n",
       "         0.00371903,  0.00254877,  0.00119293, -0.00162934,  0.00260574,\n",
       "         0.00303815, -0.00159087,  0.00472439,  0.00162852, -0.00163949,\n",
       "        -0.00128312,  0.00225421,  0.00516283,  0.00069142,  0.00540732,\n",
       "        -0.00180234,  0.00444784, -0.00468122,  0.0017258 , -0.00084207]),\n",
       " array([-3.72198018e-03, -2.02783944e-03,  6.88083275e-04, -3.28642751e-03,\n",
       "         3.15496522e-03, -3.50654430e-03, -2.53785597e-03, -3.25672664e-03,\n",
       "         1.55146007e-03,  6.06384702e-04, -1.29840082e-03, -1.41815308e-03,\n",
       "         2.71759516e-05,  2.65298702e-03,  1.20728410e-03,  2.55055021e-03,\n",
       "        -1.05812954e-03, -2.39573437e-03,  8.40085182e-04, -7.30197051e-04,\n",
       "         1.07839071e-03, -2.72773683e-03,  4.17652406e-04,  3.95663370e-03,\n",
       "        -2.23494699e-03,  5.78792382e-04,  1.07953324e-03,  2.85787236e-03,\n",
       "        -2.32843375e-03, -3.62993252e-03,  4.56516899e-03, -2.00414322e-03,\n",
       "         1.54493057e-03,  7.00212700e-04,  2.77688530e-03,  3.17805601e-04,\n",
       "        -2.19877388e-03,  3.59028851e-03,  1.76843525e-03, -4.19787648e-03,\n",
       "         1.65796113e-03,  2.45604993e-03,  1.86454074e-03,  9.22354860e-04,\n",
       "         2.05634424e-03,  1.33595604e-03,  1.31572923e-03,  1.20699443e-03,\n",
       "        -8.53777540e-04, -3.37923308e-03])]"
      ]
     },
     "execution_count": 37,
     "metadata": {},
     "output_type": "execute_result"
    }
   ],
   "source": [
    "list_of_avgw2v[1:10]"
   ]
  },
  {
   "cell_type": "markdown",
   "metadata": {},
   "source": [
    "# Tfidf- word2Vec"
   ]
  },
  {
   "cell_type": "code",
   "execution_count": 29,
   "metadata": {},
   "outputs": [],
   "source": [
    "tfidf_vector = TfidfVectorizer()\n",
    "tfidf_vector.fit(preprocessed_reviews)\n",
    "tfidf_words = tfidf_vector.get_feature_names()\n",
    "#idf values\n",
    "idf_values = list(tfidf_vector.idf_)  \n",
    "#creating a dictionary which relates tfidf words with their idf values\n",
    "idf_dictionary = dict(zip(tfidf_words,idf_values))"
   ]
  },
  {
   "cell_type": "code",
   "execution_count": 32,
   "metadata": {},
   "outputs": [],
   "source": [
    "list_of_tfidfw2v = []\n",
    "for sentance in listofwords:\n",
    "    sent_vector_t = np.zeros(50)\n",
    "    tfidf_weight = 0\n",
    "    for word in sentance:\n",
    "        if word in w2vwords and word in tfidf_words:\n",
    "            #tf = no of times a term t appear in the document / total number of terms in the document\n",
    "            tf = sentance.count(word)/len(sentance)\n",
    "            #tfidf  = tf * idf\n",
    "            tfidf_value =  tf * idf_dictionary[word] \n",
    "            sent_vector_t += (w2vmodel.wv[word] * tfidf_value)\n",
    "            tfidf_weight += tfidf_value\n",
    "        if tfidf_weight != 0:\n",
    "            sent_vector_t /= tfidf_weight\n",
    "    list_of_tfidfw2v.append(sent_vector_t)"
   ]
  },
  {
   "cell_type": "code",
   "execution_count": 36,
   "metadata": {},
   "outputs": [
    {
     "data": {
      "text/plain": [
       "[array([-6.38820713e+13, -7.57484912e+13,  1.54248018e+14, -6.46834390e+13,\n",
       "        -4.12795766e+12,  9.41144870e+13,  3.45743396e+14, -4.93382128e+14,\n",
       "         1.39691185e+14, -2.44167660e+14, -4.54776021e+14,  8.70650738e+13,\n",
       "         5.27075028e+14,  5.00866598e+14, -2.47056745e+14,  3.86478225e+14,\n",
       "        -2.64314968e+14, -2.16719784e+14,  3.43884970e+14, -2.92235151e+14,\n",
       "         3.16892222e+13,  3.94386615e+14,  5.61537076e+14,  5.07871411e+14,\n",
       "        -2.77593964e+14, -3.98924758e+13, -3.30952794e+14, -9.94538236e+12,\n",
       "         4.96765903e+14,  1.10524812e+14,  4.47432933e+13, -1.96309213e+14,\n",
       "        -2.96753723e+13,  2.24518344e+14,  4.60276698e+13,  3.62214153e+14,\n",
       "         2.49380911e+14, -4.14294589e+13,  3.40539361e+14, -3.54727005e+14,\n",
       "         1.18505528e+14,  1.73891148e+14, -4.80481232e+14,  2.78447832e+14,\n",
       "        -4.82473802e+14,  2.29161111e+14,  3.99559212e+14, -3.76768993e+14,\n",
       "        -2.94595491e+14, -3.89787006e+14]),\n",
       " array([-1.60960333e+12, -7.40621061e+11, -7.11720209e+11, -2.60375922e+12,\n",
       "         2.31090173e+12, -1.52959294e+12, -2.13034864e+12, -2.83618621e+12,\n",
       "        -7.88644437e+10,  4.23378188e+11,  7.56367017e+11, -1.39506117e+11,\n",
       "         3.59383307e+11,  3.35364258e+11, -4.95452265e+11,  2.61837286e+12,\n",
       "         9.32189474e+10, -2.33664947e+12,  7.25421117e+11, -8.34497323e+11,\n",
       "        -1.93701465e+12, -1.19622421e+12,  1.75998883e+11,  1.00651133e+12,\n",
       "        -2.38159667e+12,  2.79401362e+12,  2.44064165e+12,  2.20336059e+12,\n",
       "        -2.13997432e+12, -2.63945404e+12,  2.82915089e+12, -2.65807937e+12,\n",
       "         1.06999371e+11,  2.01972264e+12,  2.46580161e+12, -1.71795276e+12,\n",
       "        -1.89364900e+12,  1.64641699e+12,  1.03867144e+12, -2.88890590e+12,\n",
       "        -2.25749149e+11, -1.13281323e+12,  2.65064145e+12, -3.31030056e+11,\n",
       "         4.59804978e+11,  2.83712595e+11,  4.05106527e+11,  2.52245721e+12,\n",
       "         1.20734933e+11, -2.90791708e+12]),\n",
       " array([-1.56838489e+29, -6.59847868e+28, -6.52130308e+28, -2.39374894e+29,\n",
       "         2.20699301e+29, -1.51908541e+29, -1.87913383e+29, -2.68985641e+29,\n",
       "        -1.25130068e+28,  5.14207960e+28,  6.66893015e+28, -1.94452494e+28,\n",
       "         2.46045447e+28,  3.09348163e+28, -3.97243880e+28,  2.38589114e+29,\n",
       "         1.13086190e+28, -2.15157571e+29,  6.61027774e+28, -8.30105543e+28,\n",
       "        -1.89759313e+29, -1.22213490e+29,  1.76505371e+28,  9.25072967e+28,\n",
       "        -2.13612391e+29,  2.47864701e+29,  2.13507328e+29,  2.14401597e+29,\n",
       "        -1.92855865e+29, -2.55058257e+29,  2.62605285e+29, -2.54250124e+29,\n",
       "         1.87783070e+28,  1.75686376e+29,  2.37270552e+29, -1.56637115e+29,\n",
       "        -1.71526743e+29,  1.47436978e+29,  1.04814418e+29, -2.64298110e+29,\n",
       "        -1.72955866e+28, -9.30129799e+28,  2.41995982e+29, -2.00305592e+28,\n",
       "         4.92071398e+28,  3.42870550e+28,  4.33281993e+28,  2.33622473e+29,\n",
       "         1.71942891e+28, -2.62411436e+29]),\n",
       " array([ 14015079.7771035 ,  14456440.44022976, -16034587.86184532,\n",
       "         15189109.36260871,   -835139.2010715 ,   5201993.33163297,\n",
       "          2844919.67763914,  12839963.81785923,  -9939137.45634975,\n",
       "         -7244600.27306644,  10179024.61172314,   9547089.36442866,\n",
       "          1490653.87149756,   -970938.83231162,  -2732412.92196339,\n",
       "          5022668.65333434,   9865864.84635533,  14575419.91620146,\n",
       "          4798748.99278812, -14240515.08295531, -16859888.83814532,\n",
       "         -4173285.80604845, -15007631.28923861,   6460292.53223296,\n",
       "         10988891.16403473,   4908383.01563929,   9873550.39077495,\n",
       "         -5268460.93171207, -14147559.31604967, -14526539.25552738,\n",
       "        -16054805.84890502,  13859081.78610251, -14534501.01156972,\n",
       "         15422451.88590221, -14118809.55660518,   4905387.79087692,\n",
       "        -12906394.47243464,   6522769.57808754,  -1244125.98175198,\n",
       "         15089273.81512553,  -6248290.43558706,   2561999.36720336,\n",
       "         -9938438.13074444,  -5502837.04945367,  12470523.73522378,\n",
       "        -12724492.40542713,   3254560.20680804,  12986456.25855709,\n",
       "         12626505.01278263, -14139056.57227491]),\n",
       " array([-3.67800270e+35, -5.78004493e+35, -8.22432977e+35, -2.15146733e+35,\n",
       "         2.05675747e+35, -4.20469891e+35, -8.00781438e+35, -3.90139236e+35,\n",
       "        -5.49436624e+34,  8.34038269e+35, -6.70554643e+35, -4.13523096e+35,\n",
       "        -4.74320328e+35, -5.34150407e+35,  7.39073687e+35,  5.87587924e+35,\n",
       "         5.41238581e+35,  3.79719228e+35, -7.01335593e+35, -2.62017601e+35,\n",
       "        -5.49544814e+35,  6.71568915e+35,  7.34015766e+35, -2.56350172e+35,\n",
       "        -4.69458641e+35,  6.32270716e+35,  5.95106169e+35,  3.51582504e+35,\n",
       "        -1.83720925e+35, -1.95346572e+35, -1.53852869e+35,  1.60382224e+35,\n",
       "         7.91174227e+35, -7.61848738e+34, -7.52312721e+35,  4.69169533e+35,\n",
       "        -1.35711704e+35,  6.11259695e+35, -6.21971965e+35,  5.38439006e+35,\n",
       "         8.09883996e+35,  3.52162649e+34,  3.32537312e+35, -3.77356052e+34,\n",
       "        -1.44786555e+35,  7.51692900e+35, -1.82797892e+35,  1.12025659e+35,\n",
       "         1.40323234e+35,  7.97099796e+35]),\n",
       " array([-3923959.45192512, -7421084.21881075,  2221296.56588371,\n",
       "        -4144115.44051503,    12576.98221338, -9616677.78548722,\n",
       "         -663595.91993128,   319714.51560677,  3500878.93072468,\n",
       "        -4265382.37146574, -5802220.097511  ,  2045345.65311075,\n",
       "        -7265759.001524  , -1364703.07325528,  8903667.40344598,\n",
       "        -7984275.10443623,  -501243.69514476,   690985.03361503,\n",
       "         3284823.14270787,  3910318.92044726,  8078216.99276404,\n",
       "        -8523099.82619485,  5458830.24834796,  8340333.24988533,\n",
       "         5272368.23728668, -3233046.90112518, -1269602.48818099,\n",
       "         4313554.40487859, -2336020.28890103,  7297912.12725646,\n",
       "         5786466.44320045, -2178689.8634999 ,  5784681.17993825,\n",
       "        -9907849.06098647, -4408115.29317837,   578430.42240253,\n",
       "        -3137316.21887757,  7901181.5145656 ,  -494472.56957819,\n",
       "        -5789042.74160768,  9270499.06018574, 10359198.52273506,\n",
       "        -4213945.71387217,  1578937.3830861 ,  3340910.99981315,\n",
       "          434704.97837063, -3461334.62338222,  5624897.0485036 ,\n",
       "        -8514392.66668572,  7130274.01722383]),\n",
       " array([  373732.64291766,   105661.7036392 ,  2650181.35574076,\n",
       "         -384207.43521044,   588109.79291077,  -454138.77049677,\n",
       "        -2512561.48221584, -3168979.38028358,  2282427.48019972,\n",
       "         3236687.41269664, -2440035.78331916, -4556303.65304154,\n",
       "        -3080482.45186676,  4947909.50214106, -5121203.30729277,\n",
       "        -2880087.96388114,   532414.75416669,  -757270.950698  ,\n",
       "          645124.95155918,  1234738.48015881,  1116932.08122275,\n",
       "        -1684370.96172404, -5023658.05360996,   521962.56686176,\n",
       "        -4414494.84401426, -3857080.84853415,  1002364.65573807,\n",
       "         2549315.65748041,  2313056.91687005, -3537254.55761397,\n",
       "        -1993888.64440465,  3440145.14757349,  3221666.62004963,\n",
       "        -1275121.10117107,  2258104.31853682,  4806248.95385187,\n",
       "          527517.69488828,  4469451.6853698 ,  4945112.30216369,\n",
       "        -1567596.38386175, -2657569.14236621, -5049816.34325678,\n",
       "         5179650.69234029,  -968271.48983397,  3433608.85146914,\n",
       "          723714.0330025 ,  2715483.4064821 , -2701742.97908193,\n",
       "         5080722.2462215 , -5474460.9775553 ]),\n",
       " array([-1.04822895, -1.10409851,  0.10634929,  0.58440465,  0.67778979,\n",
       "        -0.57455723, -0.99799413,  1.07439896, -0.54029796, -0.34542187,\n",
       "         0.86582384, -0.43938686,  0.4218504 ,  1.15195012,  0.88137909,\n",
       "        -0.82540008, -0.2369696 , -0.97141509, -1.19785008,  1.0950729 ,\n",
       "        -1.03270565, -0.50734157, -0.61351808,  0.65113653, -0.17947302,\n",
       "        -0.65510464,  1.1257789 , -0.59836144, -0.60305115, -0.98074286,\n",
       "         1.15313077,  0.67889449, -0.48547807, -0.76316011,  0.66006318,\n",
       "        -0.65667613,  0.24305823,  0.48281793, -0.05301684, -0.95193659,\n",
       "        -0.37256747,  0.57829538,  0.73167286,  0.17774586,  0.64954905,\n",
       "        -0.254724  ,  1.05935257, -0.78354175, -0.39831397, -0.18246797]),\n",
       " array([-3.11160844e+17, -5.88358876e+17,  1.76229500e+17, -3.28631444e+17,\n",
       "         1.00685057e+15, -7.62273622e+17, -5.26236010e+16,  2.52094920e+16,\n",
       "         2.77584916e+17, -3.37995487e+17, -4.59999014e+17,  1.62010876e+17,\n",
       "        -5.75910380e+17, -1.08158905e+17,  7.05731800e+17, -6.32892420e+17,\n",
       "        -3.98357075e+16,  5.46175694e+16,  2.60299794e+17,  3.10080459e+17,\n",
       "         6.40461722e+17, -6.75507364e+17,  4.32831442e+17,  6.60990024e+17,\n",
       "         4.17772833e+17, -2.56311529e+17, -1.00732904e+17,  3.41952970e+17,\n",
       "        -1.85009102e+17,  5.78596836e+17,  4.58811447e+17, -1.72830164e+17,\n",
       "         4.58649308e+17, -7.85462434e+17, -3.49243097e+17,  4.57993386e+16,\n",
       "        -2.48529453e+17,  6.26177574e+17, -3.91747631e+16, -4.59005884e+17,\n",
       "         7.34848517e+17,  8.21041172e+17, -3.33902395e+17,  1.25200005e+17,\n",
       "         2.64671731e+17,  3.45942818e+16, -2.74385600e+17,  4.45687350e+17,\n",
       "        -6.74988429e+17,  5.65293265e+17])]"
      ]
     },
     "execution_count": 36,
     "metadata": {},
     "output_type": "execute_result"
    }
   ],
   "source": [
    "list_of_tfidfw2v[1:10]"
   ]
  },
  {
   "cell_type": "code",
   "execution_count": null,
   "metadata": {},
   "outputs": [],
   "source": []
  }
 ],
 "metadata": {
  "kernelspec": {
   "display_name": "Python 3",
   "language": "python",
   "name": "python3"
  },
  "language_info": {
   "codemirror_mode": {
    "name": "ipython",
    "version": 3
   },
   "file_extension": ".py",
   "mimetype": "text/x-python",
   "name": "python",
   "nbconvert_exporter": "python",
   "pygments_lexer": "ipython3",
   "version": "3.6.5"
  }
 },
 "nbformat": 4,
 "nbformat_minor": 2
}
