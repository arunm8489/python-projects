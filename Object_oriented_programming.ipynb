{
 "cells": [
  {
   "cell_type": "code",
   "execution_count": 76,
   "metadata": {},
   "outputs": [],
   "source": [
    "# a sample class\n",
    "class Sample():\n",
    "    pass"
   ]
  },
  {
   "cell_type": "markdown",
   "metadata": {},
   "source": [
    "### Attributes"
   ]
  },
  {
   "cell_type": "code",
   "execution_count": 77,
   "metadata": {},
   "outputs": [],
   "source": [
    "class Dog():\n",
    "    def __init__(self,breed):  #init method\n",
    "        # attributes # we assign using self.attribute_name\n",
    "        self.breed = breed"
   ]
  },
  {
   "cell_type": "code",
   "execution_count": 78,
   "metadata": {},
   "outputs": [],
   "source": [
    "my_dog = Dog(breed='Lab')"
   ]
  },
  {
   "cell_type": "code",
   "execution_count": 80,
   "metadata": {},
   "outputs": [
    {
     "data": {
      "text/plain": [
       "'Lab'"
      ]
     },
     "execution_count": 80,
     "metadata": {},
     "output_type": "execute_result"
    }
   ],
   "source": [
    "# running a atribute\n",
    "my_dog.breed"
   ]
  },
  {
   "cell_type": "code",
   "execution_count": 82,
   "metadata": {},
   "outputs": [],
   "source": [
    "# example 2\n",
    "class Dog():\n",
    "    def __init__(self,mybreed):\n",
    "        # attributes # we assign using self.attribute_name\n",
    "        self.breed = mybreed\n",
    "my_dog = Dog(mybreed='Alsatian')"
   ]
  },
  {
   "cell_type": "code",
   "execution_count": 83,
   "metadata": {},
   "outputs": [
    {
     "data": {
      "text/plain": [
       "'Alsatian'"
      ]
     },
     "execution_count": 83,
     "metadata": {},
     "output_type": "execute_result"
    }
   ],
   "source": [
    "my_dog.breed"
   ]
  },
  {
   "cell_type": "code",
   "execution_count": 84,
   "metadata": {},
   "outputs": [],
   "source": [
    "# example 3\n",
    "class Dog():\n",
    "    def __init__(self,breed,name,spots):\n",
    "        self.breed = breed\n",
    "        self.name = name\n",
    "        self.spots = spots\n",
    "            "
   ]
  },
  {
   "cell_type": "code",
   "execution_count": 85,
   "metadata": {},
   "outputs": [],
   "source": [
    "my__dog = Dog(breed='Germen shepeard',name='Husky',spots=True)"
   ]
  },
  {
   "cell_type": "code",
   "execution_count": 86,
   "metadata": {},
   "outputs": [
    {
     "data": {
      "text/plain": [
       "True"
      ]
     },
     "execution_count": 86,
     "metadata": {},
     "output_type": "execute_result"
    }
   ],
   "source": [
    "my__dog.spots"
   ]
  },
  {
   "cell_type": "markdown",
   "metadata": {},
   "source": [
    "### Setting class attribute"
   ]
  },
  {
   "cell_type": "code",
   "execution_count": 90,
   "metadata": {},
   "outputs": [],
   "source": [
    "class Dog():\n",
    "    #class object attribute\n",
    "    species = 'Mammmal'\n",
    "    \n",
    "    def __init__(self,breed,name,spots):\n",
    "        # attributes\n",
    "        self.breed = breed\n",
    "        self.name = name\n",
    "        self.spots = spots"
   ]
  },
  {
   "cell_type": "code",
   "execution_count": 88,
   "metadata": {},
   "outputs": [],
   "source": [
    "my__dog = Dog(breed='paddle',name='sam',spots=False)"
   ]
  },
  {
   "cell_type": "code",
   "execution_count": 89,
   "metadata": {},
   "outputs": [
    {
     "data": {
      "text/plain": [
       "'Mammmal'"
      ]
     },
     "execution_count": 89,
     "metadata": {},
     "output_type": "execute_result"
    }
   ],
   "source": [
    "my__dog.species"
   ]
  },
  {
   "cell_type": "markdown",
   "metadata": {},
   "source": [
    "### Method\n",
    "\n",
    "Methods are like a function inside the class.While calling a method we have to use close paranthesis ().  While in case of calling attributes it is not needed"
   ]
  },
  {
   "cell_type": "code",
   "execution_count": 96,
   "metadata": {},
   "outputs": [],
   "source": [
    "class Dog():\n",
    "    #class object attribute\n",
    "    species = 'Mammmal'\n",
    "    \n",
    "    def __init__(self,breed,name,spots):\n",
    "        # attributes\n",
    "        self.breed = breed\n",
    "        self.name = name\n",
    "        self.spots = spots\n",
    "        \n",
    "    def Sound(self,sound): #method\n",
    "        print('{} is having a {} sound'.format(self.name,sound))"
   ]
  },
  {
   "cell_type": "code",
   "execution_count": 97,
   "metadata": {},
   "outputs": [],
   "source": [
    "my__dog = Dog(breed='paddle',name='sam',spots=False)"
   ]
  },
  {
   "cell_type": "code",
   "execution_count": 98,
   "metadata": {},
   "outputs": [
    {
     "name": "stdout",
     "output_type": "stream",
     "text": [
      "sam is having a bark bark sound\n"
     ]
    }
   ],
   "source": [
    "my__dog.Sound(sound='bark bark')"
   ]
  },
  {
   "cell_type": "code",
   "execution_count": 101,
   "metadata": {},
   "outputs": [],
   "source": [
    "class Circle():\n",
    "# class object attribute\n",
    "     pi = 3.14\n",
    "     def __init__(self,radius=5):\n",
    "        self.radius = radius\n",
    "        self.area = (radius**2)*Circle.pi\n",
    "        \n",
    "    # method\n",
    "     def circumference(self):\n",
    "        return 2*Circle.pi*self.radius\n",
    "     \n",
    "    "
   ]
  },
  {
   "cell_type": "code",
   "execution_count": 102,
   "metadata": {},
   "outputs": [],
   "source": [
    "cir = Circle(radius=34)"
   ]
  },
  {
   "cell_type": "code",
   "execution_count": 103,
   "metadata": {},
   "outputs": [
    {
     "data": {
      "text/plain": [
       "3629.84"
      ]
     },
     "execution_count": 103,
     "metadata": {},
     "output_type": "execute_result"
    }
   ],
   "source": [
    "# calling an atribute\n",
    "cir.area"
   ]
  },
  {
   "cell_type": "code",
   "execution_count": 104,
   "metadata": {},
   "outputs": [
    {
     "data": {
      "text/plain": [
       "213.52"
      ]
     },
     "execution_count": 104,
     "metadata": {},
     "output_type": "execute_result"
    }
   ],
   "source": [
    "# calling a method\n",
    "cir.circumference()"
   ]
  },
  {
   "cell_type": "markdown",
   "metadata": {},
   "source": [
    "## Inheritance and Polymorphism"
   ]
  },
  {
   "cell_type": "code",
   "execution_count": 111,
   "metadata": {},
   "outputs": [],
   "source": [
    "class Animal():\n",
    "    def __init__(self):\n",
    "        print('Iam animal')\n",
    "    def feature(self):\n",
    "        print('I have 2 legs or 4 legs')\n",
    "    def live(self):\n",
    "        print('we live in land')"
   ]
  },
  {
   "cell_type": "code",
   "execution_count": 112,
   "metadata": {},
   "outputs": [
    {
     "name": "stdout",
     "output_type": "stream",
     "text": [
      "Iam animal\n"
     ]
    }
   ],
   "source": [
    "an = Animal()"
   ]
  },
  {
   "cell_type": "code",
   "execution_count": 113,
   "metadata": {},
   "outputs": [
    {
     "name": "stdout",
     "output_type": "stream",
     "text": [
      "I have 2 legs or 4 legs\n"
     ]
    }
   ],
   "source": [
    "an.feature()"
   ]
  },
  {
   "cell_type": "code",
   "execution_count": 125,
   "metadata": {},
   "outputs": [],
   "source": [
    "# Now we will create a class Cat which we will inherit features from Animal class\n",
    "class Cat(Animal):\n",
    "    def __init__(self):\n",
    "        #Animal.__init__(self)\n",
    "        print(\"Iam cat\")\n",
    "    def feature(self):  # overwriting method\n",
    "        print('I have 4 legs')\n",
    "    def sound(self):  # new method\n",
    "        print('Mewwww')"
   ]
  },
  {
   "cell_type": "code",
   "execution_count": 127,
   "metadata": {},
   "outputs": [
    {
     "name": "stdout",
     "output_type": "stream",
     "text": [
      "Iam cat\n"
     ]
    }
   ],
   "source": [
    "ct = Cat()"
   ]
  },
  {
   "cell_type": "code",
   "execution_count": 128,
   "metadata": {},
   "outputs": [
    {
     "name": "stdout",
     "output_type": "stream",
     "text": [
      "we live in land\n"
     ]
    }
   ],
   "source": [
    "ct.live()"
   ]
  },
  {
   "cell_type": "code",
   "execution_count": 129,
   "metadata": {},
   "outputs": [
    {
     "name": "stdout",
     "output_type": "stream",
     "text": [
      "I have 4 legs\n"
     ]
    }
   ],
   "source": [
    "# Now if we call  feature we get feature from cat.ie, it will print latest feature thus it will overwrite old one\n",
    "ct.feature()"
   ]
  },
  {
   "cell_type": "code",
   "execution_count": 130,
   "metadata": {},
   "outputs": [],
   "source": [
    "class Cat(Animal):\n",
    "    def __init__(self):\n",
    "        Animal.__init__(self)\n",
    "        print(\"Iam cat\")\n",
    "    def feature(self):\n",
    "        print('I have 4 legs')"
   ]
  },
  {
   "cell_type": "code",
   "execution_count": 131,
   "metadata": {},
   "outputs": [
    {
     "name": "stdout",
     "output_type": "stream",
     "text": [
      "Iam animal\n",
      "Iam cat\n"
     ]
    }
   ],
   "source": [
    "ct = Cat()"
   ]
  },
  {
   "cell_type": "markdown",
   "metadata": {},
   "source": [
    "## Polymorphism"
   ]
  },
  {
   "cell_type": "code",
   "execution_count": 139,
   "metadata": {},
   "outputs": [],
   "source": [
    "class Dog():\n",
    "    def __init__(self, name):\n",
    "        self.name = name\n",
    "        print('Hai Iam dog my name is {}'.format(self.name))\n",
    "    \n",
    "    def sound(self):\n",
    "        print('Bow bow')"
   ]
  },
  {
   "cell_type": "code",
   "execution_count": 138,
   "metadata": {},
   "outputs": [],
   "source": [
    "class Cat():\n",
    "    def __init__(self, name):\n",
    "        self.name = name\n",
    "        print('Hai Iam cat my name is {}'.format(self.name))\n",
    "    \n",
    "    def sound(self):\n",
    "        print('Mew Mew')"
   ]
  },
  {
   "cell_type": "markdown",
   "metadata": {},
   "source": [
    "polimorphism:\n",
    "If there are two classes with many methods and if they share some methods with common name between them we can have polymorphism.For example if we want to open different types of file like csv,xls etc we use common word open in different classes\n",
    "\n"
   ]
  },
  {
   "cell_type": "code",
   "execution_count": 142,
   "metadata": {},
   "outputs": [],
   "source": [
    "def poly(nm):\n",
    "    return nm.sound()"
   ]
  },
  {
   "cell_type": "code",
   "execution_count": 140,
   "metadata": {},
   "outputs": [
    {
     "name": "stdout",
     "output_type": "stream",
     "text": [
      "Hai Iam dog my name is Husky\n",
      "Hai Iam cat my name is whity\n"
     ]
    }
   ],
   "source": [
    "dg = Dog('Husky')\n",
    "ct = Cat('whity')"
   ]
  },
  {
   "cell_type": "code",
   "execution_count": 143,
   "metadata": {},
   "outputs": [
    {
     "name": "stdout",
     "output_type": "stream",
     "text": [
      "Bow bow\n"
     ]
    }
   ],
   "source": [
    "poly(dg)"
   ]
  },
  {
   "cell_type": "code",
   "execution_count": 144,
   "metadata": {},
   "outputs": [
    {
     "name": "stdout",
     "output_type": "stream",
     "text": [
      "Mew Mew\n"
     ]
    }
   ],
   "source": [
    "poly(ct)"
   ]
  },
  {
   "cell_type": "markdown",
   "metadata": {},
   "source": [
    "### special methods"
   ]
  },
  {
   "cell_type": "code",
   "execution_count": 161,
   "metadata": {},
   "outputs": [],
   "source": [
    "class Dog():\n",
    "    def __init__(self, name):\n",
    "        self.name = name\n",
    "\n"
   ]
  },
  {
   "cell_type": "code",
   "execution_count": 162,
   "metadata": {},
   "outputs": [],
   "source": [
    "dg = Dog('Husky')"
   ]
  },
  {
   "cell_type": "code",
   "execution_count": 163,
   "metadata": {},
   "outputs": [
    {
     "name": "stdout",
     "output_type": "stream",
     "text": [
      "<__main__.Dog object at 0x000000000524A978>\n"
     ]
    }
   ],
   "source": [
    "print(dg) # will return str(dg)"
   ]
  },
  {
   "cell_type": "code",
   "execution_count": 164,
   "metadata": {},
   "outputs": [
    {
     "ename": "TypeError",
     "evalue": "object of type 'Dog' has no len()",
     "output_type": "error",
     "traceback": [
      "\u001b[1;31m---------------------------------------------------------------------------\u001b[0m",
      "\u001b[1;31mTypeError\u001b[0m                                 Traceback (most recent call last)",
      "\u001b[1;32m<ipython-input-164-82c6a4dd99e4>\u001b[0m in \u001b[0;36m<module>\u001b[1;34m()\u001b[0m\n\u001b[1;32m----> 1\u001b[1;33m \u001b[0mlen\u001b[0m\u001b[1;33m(\u001b[0m\u001b[0mdg\u001b[0m\u001b[1;33m)\u001b[0m\u001b[1;33m\u001b[0m\u001b[0m\n\u001b[0m",
      "\u001b[1;31mTypeError\u001b[0m: object of type 'Dog' has no len()"
     ]
    }
   ],
   "source": [
    "len(dg)"
   ]
  },
  {
   "cell_type": "code",
   "execution_count": 165,
   "metadata": {},
   "outputs": [],
   "source": [
    "class Dog():\n",
    "    def __init__(self, name):\n",
    "        self.name = name\n",
    "    def __str__(self):\n",
    "        return ('This is about {}'.format(self.name))\n",
    "    def __len__(self):\n",
    "        return 4"
   ]
  },
  {
   "cell_type": "code",
   "execution_count": 166,
   "metadata": {},
   "outputs": [
    {
     "name": "stdout",
     "output_type": "stream",
     "text": [
      "This is about Husky\n"
     ]
    }
   ],
   "source": [
    "dg = Dog('Husky')\n",
    "print(dg)"
   ]
  },
  {
   "cell_type": "code",
   "execution_count": 167,
   "metadata": {},
   "outputs": [
    {
     "data": {
      "text/plain": [
       "4"
      ]
     },
     "execution_count": 167,
     "metadata": {},
     "output_type": "execute_result"
    }
   ],
   "source": [
    "len(dg)"
   ]
  },
  {
   "cell_type": "markdown",
   "metadata": {},
   "source": [
    "## Exercise :   OOP to return slope and distance of the line given 2 points"
   ]
  },
  {
   "cell_type": "code",
   "execution_count": 182,
   "metadata": {},
   "outputs": [],
   "source": [
    "import math\n",
    "class Point():\n",
    "    def __init__(self,point1,point2):\n",
    "        self.point1 = point1\n",
    "        self.point2 = point2\n",
    "    def slope(self):\n",
    "        x1,y1 = self.point1\n",
    "        x2,y2 = self.point2\n",
    "        slope = (y2 - y1)/(x2 - x1)\n",
    "        return slope\n",
    "        \n",
    "    def distance(self):\n",
    "        x1,y1 = self.point1\n",
    "        x2,y2 = self.point2\n",
    "        dist = math.sqrt(((x2-x1)**2)+((y2-y1)**2))\n",
    "        return dist\n",
    "    "
   ]
  },
  {
   "cell_type": "code",
   "execution_count": 183,
   "metadata": {},
   "outputs": [],
   "source": [
    "fg = Point(point1=(1,2),point2=(3,4))"
   ]
  },
  {
   "cell_type": "code",
   "execution_count": 184,
   "metadata": {},
   "outputs": [
    {
     "data": {
      "text/plain": [
       "2.8284271247461903"
      ]
     },
     "execution_count": 184,
     "metadata": {},
     "output_type": "execute_result"
    }
   ],
   "source": [
    "fg.distance()"
   ]
  },
  {
   "cell_type": "code",
   "execution_count": 185,
   "metadata": {},
   "outputs": [
    {
     "data": {
      "text/plain": [
       "1.0"
      ]
     },
     "execution_count": 185,
     "metadata": {},
     "output_type": "execute_result"
    }
   ],
   "source": [
    "fg.slope()"
   ]
  },
  {
   "cell_type": "markdown",
   "metadata": {},
   "source": [
    "## Excersise2: \n",
    "For this challenge, create a bank account class that has two attributes:\n",
    "\n",
    "* owner\n",
    "* balance\n",
    "\n",
    "and two methods:\n",
    "\n",
    "* deposit\n",
    "* withdraw\n",
    "\n",
    "As an added requirement, withdrawals may not exceed the available balance.\n",
    "\n",
    "Instantiate your class, make several deposits and withdrawals, and test to make sure the account can't be overdrawn.\n",
    "\n"
   ]
  },
  {
   "cell_type": "code",
   "execution_count": 253,
   "metadata": {},
   "outputs": [],
   "source": [
    "class Account():\n",
    "    \n",
    "    def __init__(self,owner,balance = 0):\n",
    "        self.owner = owner\n",
    "        self.balance = balance\n",
    "        print('Hai {} your balance is {}'.format(owner,self.balance))\n",
    "        \n",
    "    def deposit(self,amount):\n",
    "        self.balance = self.balance + int(amount)\n",
    "        print('Hai {} your current balance is {}'.format(self.owner,self.balance))\n",
    "        \n",
    "    def withdraw(self,amount):\n",
    "        if int(amount) >= self.balance:\n",
    "            print('insufficeint balance')\n",
    "        else:\n",
    "            self.balance = self.balance - int(amount)\n",
    "            print('Hai {} your current balance is {}'.format(self.owner,self.balance))\n",
    "    \n",
    "    def __str__(self):\n",
    "        return ('Account owner : {}  \\nAccount balance : {}'.format(self.owner,self.balance))\n",
    "        \n",
    "        \n",
    "        "
   ]
  },
  {
   "cell_type": "code",
   "execution_count": 254,
   "metadata": {},
   "outputs": [
    {
     "name": "stdout",
     "output_type": "stream",
     "text": [
      "Hai Arun your balance is 0\n"
     ]
    }
   ],
   "source": [
    "acc = Account('Arun')"
   ]
  },
  {
   "cell_type": "code",
   "execution_count": 255,
   "metadata": {},
   "outputs": [
    {
     "name": "stdout",
     "output_type": "stream",
     "text": [
      "Hai Arun your current balance is 4102\n"
     ]
    }
   ],
   "source": [
    "acc.deposit(4102)"
   ]
  },
  {
   "cell_type": "code",
   "execution_count": 256,
   "metadata": {},
   "outputs": [
    {
     "name": "stdout",
     "output_type": "stream",
     "text": [
      "Hai Arun your current balance is 3824\n"
     ]
    }
   ],
   "source": [
    "acc.withdraw(278)"
   ]
  },
  {
   "cell_type": "code",
   "execution_count": 257,
   "metadata": {},
   "outputs": [
    {
     "name": "stdout",
     "output_type": "stream",
     "text": [
      "Hai Arun your current balance is 3624\n"
     ]
    }
   ],
   "source": [
    "acc.withdraw(200)"
   ]
  },
  {
   "cell_type": "code",
   "execution_count": 258,
   "metadata": {},
   "outputs": [
    {
     "name": "stdout",
     "output_type": "stream",
     "text": [
      "Account owner : Arun  \n",
      "Account balance : 3624\n"
     ]
    }
   ],
   "source": [
    "print(acc)"
   ]
  },
  {
   "cell_type": "code",
   "execution_count": null,
   "metadata": {},
   "outputs": [],
   "source": []
  }
 ],
 "metadata": {
  "kernelspec": {
   "display_name": "Python 3",
   "language": "python",
   "name": "python3"
  },
  "language_info": {
   "codemirror_mode": {
    "name": "ipython",
    "version": 3
   },
   "file_extension": ".py",
   "mimetype": "text/x-python",
   "name": "python",
   "nbconvert_exporter": "python",
   "pygments_lexer": "ipython3",
   "version": "3.6.5"
  }
 },
 "nbformat": 4,
 "nbformat_minor": 2
}
